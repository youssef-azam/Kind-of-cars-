{
 "cells": [
  {
   "cell_type": "code",
   "execution_count": 189,
   "id": "0dfabba3",
   "metadata": {},
   "outputs": [],
   "source": [
    "import pandas as pd \n",
    "import numpy as np\n",
    "import matplotlib.pyplot as plt\n",
    "import seaborn as sns\n",
    "import os \n",
    "os.chdir(r'C:\\Users\\youssef azam\\Desktop\\project_car')"
   ]
  },
  {
   "cell_type": "markdown",
   "id": "987c858c",
   "metadata": {},
   "source": [
    "## import data"
   ]
  },
  {
   "cell_type": "code",
   "execution_count": 185,
   "id": "5ddd2d68",
   "metadata": {},
   "outputs": [
    {
     "data": {
      "text/html": [
       "<div>\n",
       "<style scoped>\n",
       "    .dataframe tbody tr th:only-of-type {\n",
       "        vertical-align: middle;\n",
       "    }\n",
       "\n",
       "    .dataframe tbody tr th {\n",
       "        vertical-align: top;\n",
       "    }\n",
       "\n",
       "    .dataframe thead th {\n",
       "        text-align: right;\n",
       "    }\n",
       "</style>\n",
       "<table border=\"1\" class=\"dataframe\">\n",
       "  <thead>\n",
       "    <tr style=\"text-align: right;\">\n",
       "      <th></th>\n",
       "      <th>model</th>\n",
       "      <th>year</th>\n",
       "      <th>price</th>\n",
       "      <th>transmission</th>\n",
       "      <th>mileage</th>\n",
       "      <th>fuelType</th>\n",
       "      <th>tax</th>\n",
       "      <th>mpg</th>\n",
       "      <th>engineSize</th>\n",
       "      <th>tax(£)</th>\n",
       "    </tr>\n",
       "  </thead>\n",
       "  <tbody>\n",
       "    <tr>\n",
       "      <th>0</th>\n",
       "      <td>A1</td>\n",
       "      <td>2017</td>\n",
       "      <td>12500</td>\n",
       "      <td>Manual</td>\n",
       "      <td>15735</td>\n",
       "      <td>Petrol</td>\n",
       "      <td>150.0</td>\n",
       "      <td>55.4</td>\n",
       "      <td>1.4</td>\n",
       "      <td>NaN</td>\n",
       "    </tr>\n",
       "    <tr>\n",
       "      <th>1</th>\n",
       "      <td>A6</td>\n",
       "      <td>2016</td>\n",
       "      <td>16500</td>\n",
       "      <td>Automatic</td>\n",
       "      <td>36203</td>\n",
       "      <td>Diesel</td>\n",
       "      <td>20.0</td>\n",
       "      <td>64.2</td>\n",
       "      <td>2.0</td>\n",
       "      <td>NaN</td>\n",
       "    </tr>\n",
       "    <tr>\n",
       "      <th>2</th>\n",
       "      <td>A1</td>\n",
       "      <td>2016</td>\n",
       "      <td>11000</td>\n",
       "      <td>Manual</td>\n",
       "      <td>29946</td>\n",
       "      <td>Petrol</td>\n",
       "      <td>30.0</td>\n",
       "      <td>55.4</td>\n",
       "      <td>1.4</td>\n",
       "      <td>NaN</td>\n",
       "    </tr>\n",
       "    <tr>\n",
       "      <th>3</th>\n",
       "      <td>A4</td>\n",
       "      <td>2017</td>\n",
       "      <td>16800</td>\n",
       "      <td>Automatic</td>\n",
       "      <td>25952</td>\n",
       "      <td>Diesel</td>\n",
       "      <td>145.0</td>\n",
       "      <td>67.3</td>\n",
       "      <td>2.0</td>\n",
       "      <td>NaN</td>\n",
       "    </tr>\n",
       "    <tr>\n",
       "      <th>4</th>\n",
       "      <td>A3</td>\n",
       "      <td>2019</td>\n",
       "      <td>17300</td>\n",
       "      <td>Manual</td>\n",
       "      <td>1998</td>\n",
       "      <td>Petrol</td>\n",
       "      <td>145.0</td>\n",
       "      <td>49.6</td>\n",
       "      <td>1.0</td>\n",
       "      <td>NaN</td>\n",
       "    </tr>\n",
       "    <tr>\n",
       "      <th>...</th>\n",
       "      <td>...</td>\n",
       "      <td>...</td>\n",
       "      <td>...</td>\n",
       "      <td>...</td>\n",
       "      <td>...</td>\n",
       "      <td>...</td>\n",
       "      <td>...</td>\n",
       "      <td>...</td>\n",
       "      <td>...</td>\n",
       "      <td>...</td>\n",
       "    </tr>\n",
       "    <tr>\n",
       "      <th>13627</th>\n",
       "      <td>Tigra</td>\n",
       "      <td>2007</td>\n",
       "      <td>2499</td>\n",
       "      <td>Manual</td>\n",
       "      <td>48640</td>\n",
       "      <td>Petrol</td>\n",
       "      <td>165.0</td>\n",
       "      <td>46.3</td>\n",
       "      <td>1.4</td>\n",
       "      <td>NaN</td>\n",
       "    </tr>\n",
       "    <tr>\n",
       "      <th>13628</th>\n",
       "      <td>Vectra</td>\n",
       "      <td>2007</td>\n",
       "      <td>1795</td>\n",
       "      <td>Manual</td>\n",
       "      <td>75000</td>\n",
       "      <td>Petrol</td>\n",
       "      <td>240.0</td>\n",
       "      <td>39.2</td>\n",
       "      <td>1.8</td>\n",
       "      <td>NaN</td>\n",
       "    </tr>\n",
       "    <tr>\n",
       "      <th>13629</th>\n",
       "      <td>Vectra</td>\n",
       "      <td>2005</td>\n",
       "      <td>1495</td>\n",
       "      <td>Manual</td>\n",
       "      <td>74000</td>\n",
       "      <td>Petrol</td>\n",
       "      <td>235.0</td>\n",
       "      <td>38.7</td>\n",
       "      <td>1.8</td>\n",
       "      <td>NaN</td>\n",
       "    </tr>\n",
       "    <tr>\n",
       "      <th>13630</th>\n",
       "      <td>Vectra</td>\n",
       "      <td>2008</td>\n",
       "      <td>1695</td>\n",
       "      <td>Automatic</td>\n",
       "      <td>131000</td>\n",
       "      <td>Diesel</td>\n",
       "      <td>200.0</td>\n",
       "      <td>39.8</td>\n",
       "      <td>1.9</td>\n",
       "      <td>NaN</td>\n",
       "    </tr>\n",
       "    <tr>\n",
       "      <th>13631</th>\n",
       "      <td>Vectra</td>\n",
       "      <td>2005</td>\n",
       "      <td>1450</td>\n",
       "      <td>Manual</td>\n",
       "      <td>147000</td>\n",
       "      <td>Petrol</td>\n",
       "      <td>330.0</td>\n",
       "      <td>27.9</td>\n",
       "      <td>3.2</td>\n",
       "      <td>NaN</td>\n",
       "    </tr>\n",
       "  </tbody>\n",
       "</table>\n",
       "<p>99187 rows × 10 columns</p>\n",
       "</div>"
      ],
      "text/plain": [
       "         model  year  price transmission  mileage fuelType    tax   mpg  \\\n",
       "0           A1  2017  12500       Manual    15735   Petrol  150.0  55.4   \n",
       "1           A6  2016  16500    Automatic    36203   Diesel   20.0  64.2   \n",
       "2           A1  2016  11000       Manual    29946   Petrol   30.0  55.4   \n",
       "3           A4  2017  16800    Automatic    25952   Diesel  145.0  67.3   \n",
       "4           A3  2019  17300       Manual     1998   Petrol  145.0  49.6   \n",
       "...        ...   ...    ...          ...      ...      ...    ...   ...   \n",
       "13627    Tigra  2007   2499       Manual    48640   Petrol  165.0  46.3   \n",
       "13628   Vectra  2007   1795       Manual    75000   Petrol  240.0  39.2   \n",
       "13629   Vectra  2005   1495       Manual    74000   Petrol  235.0  38.7   \n",
       "13630   Vectra  2008   1695    Automatic   131000   Diesel  200.0  39.8   \n",
       "13631   Vectra  2005   1450       Manual   147000   Petrol  330.0  27.9   \n",
       "\n",
       "       engineSize  tax(£)  \n",
       "0             1.4     NaN  \n",
       "1             2.0     NaN  \n",
       "2             1.4     NaN  \n",
       "3             2.0     NaN  \n",
       "4             1.0     NaN  \n",
       "...           ...     ...  \n",
       "13627         1.4     NaN  \n",
       "13628         1.8     NaN  \n",
       "13629         1.8     NaN  \n",
       "13630         1.9     NaN  \n",
       "13631         3.2     NaN  \n",
       "\n",
       "[99187 rows x 10 columns]"
      ]
     },
     "execution_count": 185,
     "metadata": {},
     "output_type": "execute_result"
    }
   ],
   "source": [
    "df1=pd.read_csv(r\"C:\\Users\\youssef azam\\Desktop\\project_car\\audi.csv\")\n",
    "df2=pd.read_csv(r\"C:\\Users\\youssef azam\\Desktop\\project_car\\bmw.csv\")\n",
    "df3=pd.read_csv(r\"C:\\Users\\youssef azam\\Desktop\\project_car\\ford.csv\")\n",
    "df4=pd.read_csv(r\"C:\\Users\\youssef azam\\Desktop\\project_car\\hyundi.csv\")\n",
    "df5=pd.read_csv(r\"C:\\Users\\youssef azam\\Desktop\\project_car\\merc.csv\")\n",
    "df6=pd.read_csv(r\"C:\\Users\\youssef azam\\Desktop\\project_car\\skoda.csv\")\n",
    "df7=pd.read_csv(r\"C:\\Users\\youssef azam\\Desktop\\project_car\\toyota.csv\")\n",
    "df8=pd.read_csv(r\"C:\\Users\\youssef azam\\Desktop\\project_car\\vw.csv\")\n",
    "df9=pd.read_csv(r\"C:\\Users\\youssef azam\\Desktop\\project_car\\vauxhall.csv\")\n",
    "\n",
    "df=pd.concat([df1,df2,df3,df4,df5,df6,df7,df8,df9])\n",
    "df"
   ]
  },
  {
   "cell_type": "code",
   "execution_count": 231,
   "id": "2ff3bc8a",
   "metadata": {
    "scrolled": true
   },
   "outputs": [
    {
     "data": {
      "text/plain": [
       "array([' A1', ' A6', ' A4', ' A3', ' Q3', ' Q5', ' A5', ' S4', ' Q2',\n",
       "       ' A7', ' TT', ' Q7', ' RS6', ' RS3', ' A8', ' Q8', ' RS4', ' RS5',\n",
       "       ' R8', ' SQ5', ' S8', ' SQ7', ' S3', ' S5', ' A2', ' RS7'],\n",
       "      dtype=object)"
      ]
     },
     "execution_count": 231,
     "metadata": {},
     "output_type": "execute_result"
    }
   ],
   "source": [
    "audi=df['model'].unique()[:26]\n",
    "audi"
   ]
  },
  {
   "cell_type": "code",
   "execution_count": 249,
   "id": "40bd33a3",
   "metadata": {},
   "outputs": [
    {
     "data": {
      "text/plain": [
       "array([' 5 Series', ' 6 Series', ' 1 Series', ' 7 Series', ' 2 Series',\n",
       "       ' 4 Series', ' X3', ' 3 Series', ' X5', ' X4', ' i3', ' X1', ' M4',\n",
       "       ' X2', ' X6', ' 8 Series', ' Z4', ' X7', ' M5', ' i8', ' M2',\n",
       "       ' M3', ' M6', ' Z3', ' Fiesta'], dtype=object)"
      ]
     },
     "execution_count": 249,
     "metadata": {},
     "output_type": "execute_result"
    }
   ],
   "source": [
    "bmw=df['model'].unique()[26:51]\n",
    "bmw"
   ]
  },
  {
   "cell_type": "code",
   "execution_count": 248,
   "id": "e1878c00",
   "metadata": {},
   "outputs": [
    {
     "data": {
      "text/plain": [
       "array([' Focus', ' Puma', ' Kuga', ' EcoSport', ' C-MAX', ' Mondeo',\n",
       "       ' Ka+', ' Tourneo Custom', ' S-MAX', ' B-MAX', ' Edge',\n",
       "       ' Tourneo Connect', ' Grand C-MAX', ' KA', ' Galaxy', ' Mustang',\n",
       "       ' Grand Tourneo Connect', ' Fusion', ' Ranger', ' Streetka',\n",
       "       ' Escort', ' Transit Tourneo', ' I20', ' Tucson'], dtype=object)"
      ]
     },
     "execution_count": 248,
     "metadata": {},
     "output_type": "execute_result"
    }
   ],
   "source": [
    "ford=df['model'].unique()[51:75]\n",
    "ford"
   ]
  },
  {
   "cell_type": "code",
   "execution_count": 241,
   "id": "9fa84123",
   "metadata": {
    "scrolled": true
   },
   "outputs": [
    {
     "data": {
      "text/plain": [
       "array([' I10', ' IX35', ' I30', ' I40', ' Ioniq', ' Kona', ' Veloster',\n",
       "       ' I800', ' IX20', ' Santa Fe', ' Accent', ' Terracan', ' Getz',\n",
       "       ' Amica', ' SLK'], dtype=object)"
      ]
     },
     "execution_count": 241,
     "metadata": {},
     "output_type": "execute_result"
    }
   ],
   "source": [
    "hyundi=df['model'].unique()[75:90]\n",
    "hyundi"
   ]
  },
  {
   "cell_type": "code",
   "execution_count": 244,
   "id": "2787931e",
   "metadata": {},
   "outputs": [
    {
     "data": {
      "text/plain": [
       "array([' SL CLASS', ' G Class', ' GLE Class', ' GLA Class', ' A Class',\n",
       "       ' B Class', ' GLC Class', ' C Class', ' E Class', ' GL Class',\n",
       "       ' CLS Class', ' CLC Class', ' CLA Class', ' V Class', ' M Class',\n",
       "       ' CL Class', ' GLS Class', ' GLB Class', ' X-CLASS', '180', ' CLK',\n",
       "       ' R Class', '230', '220', '200'], dtype=object)"
      ]
     },
     "execution_count": 244,
     "metadata": {},
     "output_type": "execute_result"
    }
   ],
   "source": [
    "merc=df['model'].unique()[90:116]\n",
    "merc"
   ]
  },
  {
   "cell_type": "code",
   "execution_count": 247,
   "id": "d1b1f12c",
   "metadata": {},
   "outputs": [
    {
     "data": {
      "text/plain": [
       "array([' Octavia', ' Citigo', ' Yeti Outdoor', ' Superb', ' Kodiaq',\n",
       "       ' Rapid', ' Karoq', ' Fabia', ' Yeti', ' Scala', ' Roomster',\n",
       "       ' Kamiq', ' GT86', ' Corolla'], dtype=object)"
      ]
     },
     "execution_count": 247,
     "metadata": {},
     "output_type": "execute_result"
    }
   ],
   "source": [
    "skoda=df['model'].unique()[116:130]\n",
    "skoda"
   ]
  },
  {
   "cell_type": "code",
   "execution_count": 250,
   "id": "a369b0f8",
   "metadata": {},
   "outputs": [
    {
     "data": {
      "text/plain": [
       "array([' RAV4', ' Yaris', ' Auris', ' Aygo', ' C-HR', ' Prius',\n",
       "       ' Avensis', ' Verso', ' Hilux', ' PROACE VERSO', ' Land Cruiser',\n",
       "       ' Supra', ' Camry', ' Verso-S', ' IQ', ' Urban Cruiser', ' T-Roc',\n",
       "       ' Golf'], dtype=object)"
      ]
     },
     "execution_count": 250,
     "metadata": {},
     "output_type": "execute_result"
    }
   ],
   "source": [
    "toyota=df['model'].unique()[130:148]\n",
    "toyota"
   ]
  },
  {
   "cell_type": "code",
   "execution_count": 251,
   "id": "02f63705",
   "metadata": {},
   "outputs": [
    {
     "data": {
      "text/plain": [
       "array([' Passat', ' T-Cross', ' Polo', ' Tiguan', ' Sharan', ' Up',\n",
       "       ' Scirocco', ' Beetle', ' Caddy Maxi Life', ' Caravelle',\n",
       "       ' Touareg', ' Arteon', ' Touran', ' Golf SV', ' Amarok',\n",
       "       ' Tiguan Allspace', ' Shuttle', ' Jetta', ' CC', ' California',\n",
       "       ' Caddy Life', ' Caddy', ' Caddy Maxi', ' Eos', ' Fox', ' Corsa',\n",
       "       ' Astra'], dtype=object)"
      ]
     },
     "execution_count": 251,
     "metadata": {},
     "output_type": "execute_result"
    }
   ],
   "source": [
    "vw=df['model'].unique()[148:175]\n",
    "vw"
   ]
  },
  {
   "cell_type": "code",
   "execution_count": 252,
   "id": "fa51efe8",
   "metadata": {},
   "outputs": [
    {
     "data": {
      "text/plain": [
       "array([' Viva', ' Mokka', ' Mokka X', ' Crossland X', ' Zafira',\n",
       "       ' Meriva', ' Zafira Tourer', ' Adam', ' Grandland X', ' Antara',\n",
       "       ' Insignia', ' Ampera', ' GTC', ' Combo Life', ' Vivaro',\n",
       "       ' Cascada', ' Kadjar', ' Agila', ' Tigra', ' Vectra'], dtype=object)"
      ]
     },
     "execution_count": 252,
     "metadata": {},
     "output_type": "execute_result"
    }
   ],
   "source": [
    "vauxhall=df['model'].unique()[175:197]\n",
    "vauxhall"
   ]
  },
  {
   "cell_type": "markdown",
   "id": "4c9067dd",
   "metadata": {},
   "source": [
    "## EDA"
   ]
  },
  {
   "cell_type": "code",
   "execution_count": 186,
   "id": "82666a4b",
   "metadata": {},
   "outputs": [
    {
     "data": {
      "text/html": [
       "<div>\n",
       "<style scoped>\n",
       "    .dataframe tbody tr th:only-of-type {\n",
       "        vertical-align: middle;\n",
       "    }\n",
       "\n",
       "    .dataframe tbody tr th {\n",
       "        vertical-align: top;\n",
       "    }\n",
       "\n",
       "    .dataframe thead th {\n",
       "        text-align: right;\n",
       "    }\n",
       "</style>\n",
       "<table border=\"1\" class=\"dataframe\">\n",
       "  <thead>\n",
       "    <tr style=\"text-align: right;\">\n",
       "      <th></th>\n",
       "      <th>model</th>\n",
       "      <th>year</th>\n",
       "      <th>price</th>\n",
       "      <th>transmission</th>\n",
       "      <th>mileage</th>\n",
       "      <th>fuelType</th>\n",
       "      <th>tax</th>\n",
       "      <th>mpg</th>\n",
       "      <th>engineSize</th>\n",
       "      <th>tax(£)</th>\n",
       "    </tr>\n",
       "  </thead>\n",
       "  <tbody>\n",
       "    <tr>\n",
       "      <th>0</th>\n",
       "      <td>A1</td>\n",
       "      <td>2017</td>\n",
       "      <td>12500</td>\n",
       "      <td>Manual</td>\n",
       "      <td>15735</td>\n",
       "      <td>Petrol</td>\n",
       "      <td>150.0</td>\n",
       "      <td>55.4</td>\n",
       "      <td>1.4</td>\n",
       "      <td>NaN</td>\n",
       "    </tr>\n",
       "    <tr>\n",
       "      <th>1</th>\n",
       "      <td>A6</td>\n",
       "      <td>2016</td>\n",
       "      <td>16500</td>\n",
       "      <td>Automatic</td>\n",
       "      <td>36203</td>\n",
       "      <td>Diesel</td>\n",
       "      <td>20.0</td>\n",
       "      <td>64.2</td>\n",
       "      <td>2.0</td>\n",
       "      <td>NaN</td>\n",
       "    </tr>\n",
       "    <tr>\n",
       "      <th>2</th>\n",
       "      <td>A1</td>\n",
       "      <td>2016</td>\n",
       "      <td>11000</td>\n",
       "      <td>Manual</td>\n",
       "      <td>29946</td>\n",
       "      <td>Petrol</td>\n",
       "      <td>30.0</td>\n",
       "      <td>55.4</td>\n",
       "      <td>1.4</td>\n",
       "      <td>NaN</td>\n",
       "    </tr>\n",
       "    <tr>\n",
       "      <th>3</th>\n",
       "      <td>A4</td>\n",
       "      <td>2017</td>\n",
       "      <td>16800</td>\n",
       "      <td>Automatic</td>\n",
       "      <td>25952</td>\n",
       "      <td>Diesel</td>\n",
       "      <td>145.0</td>\n",
       "      <td>67.3</td>\n",
       "      <td>2.0</td>\n",
       "      <td>NaN</td>\n",
       "    </tr>\n",
       "    <tr>\n",
       "      <th>4</th>\n",
       "      <td>A3</td>\n",
       "      <td>2019</td>\n",
       "      <td>17300</td>\n",
       "      <td>Manual</td>\n",
       "      <td>1998</td>\n",
       "      <td>Petrol</td>\n",
       "      <td>145.0</td>\n",
       "      <td>49.6</td>\n",
       "      <td>1.0</td>\n",
       "      <td>NaN</td>\n",
       "    </tr>\n",
       "  </tbody>\n",
       "</table>\n",
       "</div>"
      ],
      "text/plain": [
       "  model  year  price transmission  mileage fuelType    tax   mpg  engineSize  \\\n",
       "0    A1  2017  12500       Manual    15735   Petrol  150.0  55.4         1.4   \n",
       "1    A6  2016  16500    Automatic    36203   Diesel   20.0  64.2         2.0   \n",
       "2    A1  2016  11000       Manual    29946   Petrol   30.0  55.4         1.4   \n",
       "3    A4  2017  16800    Automatic    25952   Diesel  145.0  67.3         2.0   \n",
       "4    A3  2019  17300       Manual     1998   Petrol  145.0  49.6         1.0   \n",
       "\n",
       "   tax(£)  \n",
       "0     NaN  \n",
       "1     NaN  \n",
       "2     NaN  \n",
       "3     NaN  \n",
       "4     NaN  "
      ]
     },
     "execution_count": 186,
     "metadata": {},
     "output_type": "execute_result"
    }
   ],
   "source": [
    "df.head()"
   ]
  },
  {
   "cell_type": "code",
   "execution_count": 187,
   "id": "40a493ff",
   "metadata": {},
   "outputs": [
    {
     "data": {
      "text/html": [
       "<div>\n",
       "<style scoped>\n",
       "    .dataframe tbody tr th:only-of-type {\n",
       "        vertical-align: middle;\n",
       "    }\n",
       "\n",
       "    .dataframe tbody tr th {\n",
       "        vertical-align: top;\n",
       "    }\n",
       "\n",
       "    .dataframe thead th {\n",
       "        text-align: right;\n",
       "    }\n",
       "</style>\n",
       "<table border=\"1\" class=\"dataframe\">\n",
       "  <thead>\n",
       "    <tr style=\"text-align: right;\">\n",
       "      <th></th>\n",
       "      <th>model</th>\n",
       "      <th>year</th>\n",
       "      <th>price</th>\n",
       "      <th>transmission</th>\n",
       "      <th>mileage</th>\n",
       "      <th>fuelType</th>\n",
       "      <th>tax</th>\n",
       "      <th>mpg</th>\n",
       "      <th>engineSize</th>\n",
       "      <th>tax(£)</th>\n",
       "    </tr>\n",
       "  </thead>\n",
       "  <tbody>\n",
       "    <tr>\n",
       "      <th>13627</th>\n",
       "      <td>Tigra</td>\n",
       "      <td>2007</td>\n",
       "      <td>2499</td>\n",
       "      <td>Manual</td>\n",
       "      <td>48640</td>\n",
       "      <td>Petrol</td>\n",
       "      <td>165.0</td>\n",
       "      <td>46.3</td>\n",
       "      <td>1.4</td>\n",
       "      <td>NaN</td>\n",
       "    </tr>\n",
       "    <tr>\n",
       "      <th>13628</th>\n",
       "      <td>Vectra</td>\n",
       "      <td>2007</td>\n",
       "      <td>1795</td>\n",
       "      <td>Manual</td>\n",
       "      <td>75000</td>\n",
       "      <td>Petrol</td>\n",
       "      <td>240.0</td>\n",
       "      <td>39.2</td>\n",
       "      <td>1.8</td>\n",
       "      <td>NaN</td>\n",
       "    </tr>\n",
       "    <tr>\n",
       "      <th>13629</th>\n",
       "      <td>Vectra</td>\n",
       "      <td>2005</td>\n",
       "      <td>1495</td>\n",
       "      <td>Manual</td>\n",
       "      <td>74000</td>\n",
       "      <td>Petrol</td>\n",
       "      <td>235.0</td>\n",
       "      <td>38.7</td>\n",
       "      <td>1.8</td>\n",
       "      <td>NaN</td>\n",
       "    </tr>\n",
       "    <tr>\n",
       "      <th>13630</th>\n",
       "      <td>Vectra</td>\n",
       "      <td>2008</td>\n",
       "      <td>1695</td>\n",
       "      <td>Automatic</td>\n",
       "      <td>131000</td>\n",
       "      <td>Diesel</td>\n",
       "      <td>200.0</td>\n",
       "      <td>39.8</td>\n",
       "      <td>1.9</td>\n",
       "      <td>NaN</td>\n",
       "    </tr>\n",
       "    <tr>\n",
       "      <th>13631</th>\n",
       "      <td>Vectra</td>\n",
       "      <td>2005</td>\n",
       "      <td>1450</td>\n",
       "      <td>Manual</td>\n",
       "      <td>147000</td>\n",
       "      <td>Petrol</td>\n",
       "      <td>330.0</td>\n",
       "      <td>27.9</td>\n",
       "      <td>3.2</td>\n",
       "      <td>NaN</td>\n",
       "    </tr>\n",
       "  </tbody>\n",
       "</table>\n",
       "</div>"
      ],
      "text/plain": [
       "         model  year  price transmission  mileage fuelType    tax   mpg  \\\n",
       "13627    Tigra  2007   2499       Manual    48640   Petrol  165.0  46.3   \n",
       "13628   Vectra  2007   1795       Manual    75000   Petrol  240.0  39.2   \n",
       "13629   Vectra  2005   1495       Manual    74000   Petrol  235.0  38.7   \n",
       "13630   Vectra  2008   1695    Automatic   131000   Diesel  200.0  39.8   \n",
       "13631   Vectra  2005   1450       Manual   147000   Petrol  330.0  27.9   \n",
       "\n",
       "       engineSize  tax(£)  \n",
       "13627         1.4     NaN  \n",
       "13628         1.8     NaN  \n",
       "13629         1.8     NaN  \n",
       "13630         1.9     NaN  \n",
       "13631         3.2     NaN  "
      ]
     },
     "execution_count": 187,
     "metadata": {},
     "output_type": "execute_result"
    }
   ],
   "source": [
    "df.tail()"
   ]
  },
  {
   "cell_type": "code",
   "execution_count": 103,
   "id": "79b6e279",
   "metadata": {},
   "outputs": [
    {
     "data": {
      "text/plain": [
       "(99187, 10)"
      ]
     },
     "execution_count": 103,
     "metadata": {},
     "output_type": "execute_result"
    }
   ],
   "source": [
    "df.shape"
   ]
  },
  {
   "cell_type": "code",
   "execution_count": 104,
   "id": "c358c2fa",
   "metadata": {},
   "outputs": [
    {
     "data": {
      "text/plain": [
       "Index(['model', 'year', 'price', 'transmission', 'mileage', 'fuelType', 'tax',\n",
       "       'mpg', 'engineSize', 'tax(£)'],\n",
       "      dtype='object')"
      ]
     },
     "execution_count": 104,
     "metadata": {},
     "output_type": "execute_result"
    }
   ],
   "source": [
    "df.columns"
   ]
  },
  {
   "cell_type": "code",
   "execution_count": 105,
   "id": "949445f8",
   "metadata": {},
   "outputs": [
    {
     "data": {
      "text/plain": [
       "array(['Manual', 'Automatic', 'Semi-Auto', 'Other'], dtype=object)"
      ]
     },
     "execution_count": 105,
     "metadata": {},
     "output_type": "execute_result"
    }
   ],
   "source": [
    "df['transmission'].unique()"
   ]
  },
  {
   "cell_type": "code",
   "execution_count": 156,
   "id": "09bfa121",
   "metadata": {},
   "outputs": [
    {
     "data": {
      "text/plain": [
       "array([2017, 2016, 2019, 2015, 2014, 2018, 2013, 2020, 2004, 2009, 2012,\n",
       "       2010, 2007, 2011, 2008, 2003, 2005, 2002, 2006, 1998, 1997, 2001,\n",
       "       2000, 1999, 1996, 2060, 1970], dtype=int64)"
      ]
     },
     "execution_count": 156,
     "metadata": {},
     "output_type": "execute_result"
    }
   ],
   "source": [
    "df['year'].unique()"
   ]
  },
  {
   "cell_type": "code",
   "execution_count": 107,
   "id": "8909d96a",
   "metadata": {},
   "outputs": [
    {
     "data": {
      "text/plain": [
       "<bound method DataFrame.info of          model  year  price transmission  mileage fuelType    tax   mpg  \\\n",
       "0           A1  2017  12500       Manual    15735   Petrol  150.0  55.4   \n",
       "1           A6  2016  16500    Automatic    36203   Diesel   20.0  64.2   \n",
       "2           A1  2016  11000       Manual    29946   Petrol   30.0  55.4   \n",
       "3           A4  2017  16800    Automatic    25952   Diesel  145.0  67.3   \n",
       "4           A3  2019  17300       Manual     1998   Petrol  145.0  49.6   \n",
       "...        ...   ...    ...          ...      ...      ...    ...   ...   \n",
       "13627    Tigra  2007   2499       Manual    48640   Petrol  165.0  46.3   \n",
       "13628   Vectra  2007   1795       Manual    75000   Petrol  240.0  39.2   \n",
       "13629   Vectra  2005   1495       Manual    74000   Petrol  235.0  38.7   \n",
       "13630   Vectra  2008   1695    Automatic   131000   Diesel  200.0  39.8   \n",
       "13631   Vectra  2005   1450       Manual   147000   Petrol  330.0  27.9   \n",
       "\n",
       "       engineSize  tax(£)  \n",
       "0             1.4     NaN  \n",
       "1             2.0     NaN  \n",
       "2             1.4     NaN  \n",
       "3             2.0     NaN  \n",
       "4             1.0     NaN  \n",
       "...           ...     ...  \n",
       "13627         1.4     NaN  \n",
       "13628         1.8     NaN  \n",
       "13629         1.8     NaN  \n",
       "13630         1.9     NaN  \n",
       "13631         3.2     NaN  \n",
       "\n",
       "[99187 rows x 10 columns]>"
      ]
     },
     "execution_count": 107,
     "metadata": {},
     "output_type": "execute_result"
    }
   ],
   "source": [
    "df.info"
   ]
  },
  {
   "cell_type": "code",
   "execution_count": 56,
   "id": "fca4ae29",
   "metadata": {},
   "outputs": [
    {
     "data": {
      "text/plain": [
       "count     99187.0\n",
       "mean      16805.0\n",
       "std        9867.0\n",
       "min         450.0\n",
       "25%        9999.0\n",
       "50%       14495.0\n",
       "75%       20870.0\n",
       "max      159999.0\n",
       "Name: price, dtype: float64"
      ]
     },
     "execution_count": 56,
     "metadata": {},
     "output_type": "execute_result"
    }
   ],
   "source": [
    "round(df['price'].describe())"
   ]
  },
  {
   "cell_type": "code",
   "execution_count": 58,
   "id": "9105b23c",
   "metadata": {},
   "outputs": [
    {
     "data": {
      "text/plain": [
       "count     99187.0\n",
       "mean      23059.0\n",
       "std       21149.0\n",
       "min           1.0\n",
       "25%        7425.0\n",
       "50%       17460.0\n",
       "75%       32339.0\n",
       "max      323000.0\n",
       "Name: mileage, dtype: float64"
      ]
     },
     "execution_count": 58,
     "metadata": {},
     "output_type": "execute_result"
    }
   ],
   "source": [
    "round(df['mileage'].describe())"
   ]
  },
  {
   "cell_type": "code",
   "execution_count": 59,
   "id": "fa24e0ae",
   "metadata": {},
   "outputs": [
    {
     "data": {
      "text/plain": [
       "count    94327.0\n",
       "mean       120.0\n",
       "std         63.0\n",
       "min          0.0\n",
       "25%        125.0\n",
       "50%        145.0\n",
       "75%        145.0\n",
       "max        580.0\n",
       "Name: tax, dtype: float64"
      ]
     },
     "execution_count": 59,
     "metadata": {},
     "output_type": "execute_result"
    }
   ],
   "source": [
    "round(df['tax'].describe())"
   ]
  },
  {
   "cell_type": "code",
   "execution_count": 126,
   "id": "893c257b",
   "metadata": {},
   "outputs": [
    {
     "data": {
      "text/plain": [
       "Manual       56445\n",
       "Semi-Auto    22677\n",
       "Automatic    20056\n",
       "Other            9\n",
       "Name: transmission, dtype: int64"
      ]
     },
     "execution_count": 126,
     "metadata": {},
     "output_type": "execute_result"
    }
   ],
   "source": [
    "df[\"transmission\"].value_counts()"
   ]
  },
  {
   "cell_type": "code",
   "execution_count": 123,
   "id": "c4006a95",
   "metadata": {},
   "outputs": [
    {
     "data": {
      "text/plain": [
       "Petrol      54928\n",
       "Diesel      40928\n",
       "Hybrid       3078\n",
       "Other         247\n",
       "Electric        6\n",
       "Name: fuelType, dtype: int64"
      ]
     },
     "execution_count": 123,
     "metadata": {},
     "output_type": "execute_result"
    }
   ],
   "source": [
    "df['fuelType'].value_counts()"
   ]
  },
  {
   "cell_type": "markdown",
   "id": "75fb7570",
   "metadata": {},
   "source": [
    "## Data cleaning"
   ]
  },
  {
   "cell_type": "code",
   "execution_count": 109,
   "id": "89ff50ef",
   "metadata": {},
   "outputs": [
    {
     "data": {
      "text/plain": [
       "model               0\n",
       "year                0\n",
       "price               0\n",
       "transmission        0\n",
       "mileage             0\n",
       "fuelType            0\n",
       "tax              4860\n",
       "mpg                 0\n",
       "engineSize          0\n",
       "tax(£)          94327\n",
       "dtype: int64"
      ]
     },
     "execution_count": 109,
     "metadata": {},
     "output_type": "execute_result"
    }
   ],
   "source": [
    "df.isnull().sum()"
   ]
  },
  {
   "cell_type": "code",
   "execution_count": 124,
   "id": "1f06b6bf",
   "metadata": {},
   "outputs": [
    {
     "data": {
      "text/plain": [
       "0        150.0\n",
       "1         20.0\n",
       "2         30.0\n",
       "3        145.0\n",
       "4        145.0\n",
       "         ...  \n",
       "13627    165.0\n",
       "13628    240.0\n",
       "13629    235.0\n",
       "13630    200.0\n",
       "13631    330.0\n",
       "Name: tax, Length: 99187, dtype: float64"
      ]
     },
     "execution_count": 124,
     "metadata": {},
     "output_type": "execute_result"
    }
   ],
   "source": [
    "mean=df['tax'].mean()\n",
    "df['tax'].replace('NaN',mean)\n"
   ]
  },
  {
   "cell_type": "code",
   "execution_count": 112,
   "id": "a824aec1",
   "metadata": {},
   "outputs": [
    {
     "data": {
      "text/html": [
       "<div>\n",
       "<style scoped>\n",
       "    .dataframe tbody tr th:only-of-type {\n",
       "        vertical-align: middle;\n",
       "    }\n",
       "\n",
       "    .dataframe tbody tr th {\n",
       "        vertical-align: top;\n",
       "    }\n",
       "\n",
       "    .dataframe thead th {\n",
       "        text-align: right;\n",
       "    }\n",
       "</style>\n",
       "<table border=\"1\" class=\"dataframe\">\n",
       "  <thead>\n",
       "    <tr style=\"text-align: right;\">\n",
       "      <th></th>\n",
       "      <th>model</th>\n",
       "      <th>year</th>\n",
       "      <th>price</th>\n",
       "      <th>transmission</th>\n",
       "      <th>mileage</th>\n",
       "      <th>fuelType</th>\n",
       "      <th>tax</th>\n",
       "      <th>mpg</th>\n",
       "      <th>engineSize</th>\n",
       "      <th>tax(£)</th>\n",
       "    </tr>\n",
       "  </thead>\n",
       "  <tbody>\n",
       "    <tr>\n",
       "      <th>0</th>\n",
       "      <td>A1</td>\n",
       "      <td>2017</td>\n",
       "      <td>12500</td>\n",
       "      <td>Manual</td>\n",
       "      <td>15735</td>\n",
       "      <td>Petrol</td>\n",
       "      <td>150.0</td>\n",
       "      <td>55.4</td>\n",
       "      <td>1.4</td>\n",
       "      <td>NaN</td>\n",
       "    </tr>\n",
       "    <tr>\n",
       "      <th>1</th>\n",
       "      <td>A6</td>\n",
       "      <td>2016</td>\n",
       "      <td>16500</td>\n",
       "      <td>Automatic</td>\n",
       "      <td>36203</td>\n",
       "      <td>Diesel</td>\n",
       "      <td>20.0</td>\n",
       "      <td>64.2</td>\n",
       "      <td>2.0</td>\n",
       "      <td>NaN</td>\n",
       "    </tr>\n",
       "    <tr>\n",
       "      <th>2</th>\n",
       "      <td>A1</td>\n",
       "      <td>2016</td>\n",
       "      <td>11000</td>\n",
       "      <td>Manual</td>\n",
       "      <td>29946</td>\n",
       "      <td>Petrol</td>\n",
       "      <td>30.0</td>\n",
       "      <td>55.4</td>\n",
       "      <td>1.4</td>\n",
       "      <td>NaN</td>\n",
       "    </tr>\n",
       "    <tr>\n",
       "      <th>3</th>\n",
       "      <td>A4</td>\n",
       "      <td>2017</td>\n",
       "      <td>16800</td>\n",
       "      <td>Automatic</td>\n",
       "      <td>25952</td>\n",
       "      <td>Diesel</td>\n",
       "      <td>145.0</td>\n",
       "      <td>67.3</td>\n",
       "      <td>2.0</td>\n",
       "      <td>NaN</td>\n",
       "    </tr>\n",
       "    <tr>\n",
       "      <th>4</th>\n",
       "      <td>A3</td>\n",
       "      <td>2019</td>\n",
       "      <td>17300</td>\n",
       "      <td>Manual</td>\n",
       "      <td>1998</td>\n",
       "      <td>Petrol</td>\n",
       "      <td>145.0</td>\n",
       "      <td>49.6</td>\n",
       "      <td>1.0</td>\n",
       "      <td>NaN</td>\n",
       "    </tr>\n",
       "    <tr>\n",
       "      <th>...</th>\n",
       "      <td>...</td>\n",
       "      <td>...</td>\n",
       "      <td>...</td>\n",
       "      <td>...</td>\n",
       "      <td>...</td>\n",
       "      <td>...</td>\n",
       "      <td>...</td>\n",
       "      <td>...</td>\n",
       "      <td>...</td>\n",
       "      <td>...</td>\n",
       "    </tr>\n",
       "    <tr>\n",
       "      <th>13627</th>\n",
       "      <td>Tigra</td>\n",
       "      <td>2007</td>\n",
       "      <td>2499</td>\n",
       "      <td>Manual</td>\n",
       "      <td>48640</td>\n",
       "      <td>Petrol</td>\n",
       "      <td>165.0</td>\n",
       "      <td>46.3</td>\n",
       "      <td>1.4</td>\n",
       "      <td>NaN</td>\n",
       "    </tr>\n",
       "    <tr>\n",
       "      <th>13628</th>\n",
       "      <td>Vectra</td>\n",
       "      <td>2007</td>\n",
       "      <td>1795</td>\n",
       "      <td>Manual</td>\n",
       "      <td>75000</td>\n",
       "      <td>Petrol</td>\n",
       "      <td>240.0</td>\n",
       "      <td>39.2</td>\n",
       "      <td>1.8</td>\n",
       "      <td>NaN</td>\n",
       "    </tr>\n",
       "    <tr>\n",
       "      <th>13629</th>\n",
       "      <td>Vectra</td>\n",
       "      <td>2005</td>\n",
       "      <td>1495</td>\n",
       "      <td>Manual</td>\n",
       "      <td>74000</td>\n",
       "      <td>Petrol</td>\n",
       "      <td>235.0</td>\n",
       "      <td>38.7</td>\n",
       "      <td>1.8</td>\n",
       "      <td>NaN</td>\n",
       "    </tr>\n",
       "    <tr>\n",
       "      <th>13630</th>\n",
       "      <td>Vectra</td>\n",
       "      <td>2008</td>\n",
       "      <td>1695</td>\n",
       "      <td>Automatic</td>\n",
       "      <td>131000</td>\n",
       "      <td>Diesel</td>\n",
       "      <td>200.0</td>\n",
       "      <td>39.8</td>\n",
       "      <td>1.9</td>\n",
       "      <td>NaN</td>\n",
       "    </tr>\n",
       "    <tr>\n",
       "      <th>13631</th>\n",
       "      <td>Vectra</td>\n",
       "      <td>2005</td>\n",
       "      <td>1450</td>\n",
       "      <td>Manual</td>\n",
       "      <td>147000</td>\n",
       "      <td>Petrol</td>\n",
       "      <td>330.0</td>\n",
       "      <td>27.9</td>\n",
       "      <td>3.2</td>\n",
       "      <td>NaN</td>\n",
       "    </tr>\n",
       "  </tbody>\n",
       "</table>\n",
       "<p>99187 rows × 10 columns</p>\n",
       "</div>"
      ],
      "text/plain": [
       "         model  year  price transmission  mileage fuelType    tax   mpg  \\\n",
       "0           A1  2017  12500       Manual    15735   Petrol  150.0  55.4   \n",
       "1           A6  2016  16500    Automatic    36203   Diesel   20.0  64.2   \n",
       "2           A1  2016  11000       Manual    29946   Petrol   30.0  55.4   \n",
       "3           A4  2017  16800    Automatic    25952   Diesel  145.0  67.3   \n",
       "4           A3  2019  17300       Manual     1998   Petrol  145.0  49.6   \n",
       "...        ...   ...    ...          ...      ...      ...    ...   ...   \n",
       "13627    Tigra  2007   2499       Manual    48640   Petrol  165.0  46.3   \n",
       "13628   Vectra  2007   1795       Manual    75000   Petrol  240.0  39.2   \n",
       "13629   Vectra  2005   1495       Manual    74000   Petrol  235.0  38.7   \n",
       "13630   Vectra  2008   1695    Automatic   131000   Diesel  200.0  39.8   \n",
       "13631   Vectra  2005   1450       Manual   147000   Petrol  330.0  27.9   \n",
       "\n",
       "       engineSize  tax(£)  \n",
       "0             1.4     NaN  \n",
       "1             2.0     NaN  \n",
       "2             1.4     NaN  \n",
       "3             2.0     NaN  \n",
       "4             1.0     NaN  \n",
       "...           ...     ...  \n",
       "13627         1.4     NaN  \n",
       "13628         1.8     NaN  \n",
       "13629         1.8     NaN  \n",
       "13630         1.9     NaN  \n",
       "13631         3.2     NaN  \n",
       "\n",
       "[99187 rows x 10 columns]"
      ]
     },
     "execution_count": 112,
     "metadata": {},
     "output_type": "execute_result"
    }
   ],
   "source": [
    "df"
   ]
  },
  {
   "cell_type": "code",
   "execution_count": 208,
   "id": "255fa21f",
   "metadata": {},
   "outputs": [
    {
     "data": {
      "text/html": [
       "<div>\n",
       "<style scoped>\n",
       "    .dataframe tbody tr th:only-of-type {\n",
       "        vertical-align: middle;\n",
       "    }\n",
       "\n",
       "    .dataframe tbody tr th {\n",
       "        vertical-align: top;\n",
       "    }\n",
       "\n",
       "    .dataframe thead th {\n",
       "        text-align: right;\n",
       "    }\n",
       "</style>\n",
       "<table border=\"1\" class=\"dataframe\">\n",
       "  <thead>\n",
       "    <tr style=\"text-align: right;\">\n",
       "      <th></th>\n",
       "      <th>model</th>\n",
       "      <th>year</th>\n",
       "      <th>price</th>\n",
       "      <th>transmission</th>\n",
       "      <th>mileage</th>\n",
       "      <th>fuelType</th>\n",
       "      <th>tax</th>\n",
       "      <th>mpg</th>\n",
       "      <th>engineSize</th>\n",
       "    </tr>\n",
       "  </thead>\n",
       "  <tbody>\n",
       "    <tr>\n",
       "      <th>0</th>\n",
       "      <td>A1</td>\n",
       "      <td>2017</td>\n",
       "      <td>12500</td>\n",
       "      <td>Manual</td>\n",
       "      <td>15735</td>\n",
       "      <td>Petrol</td>\n",
       "      <td>150.0</td>\n",
       "      <td>55.4</td>\n",
       "      <td>1.4</td>\n",
       "    </tr>\n",
       "    <tr>\n",
       "      <th>1</th>\n",
       "      <td>A6</td>\n",
       "      <td>2016</td>\n",
       "      <td>16500</td>\n",
       "      <td>Automatic</td>\n",
       "      <td>36203</td>\n",
       "      <td>Diesel</td>\n",
       "      <td>20.0</td>\n",
       "      <td>64.2</td>\n",
       "      <td>2.0</td>\n",
       "    </tr>\n",
       "    <tr>\n",
       "      <th>2</th>\n",
       "      <td>A1</td>\n",
       "      <td>2016</td>\n",
       "      <td>11000</td>\n",
       "      <td>Manual</td>\n",
       "      <td>29946</td>\n",
       "      <td>Petrol</td>\n",
       "      <td>30.0</td>\n",
       "      <td>55.4</td>\n",
       "      <td>1.4</td>\n",
       "    </tr>\n",
       "    <tr>\n",
       "      <th>3</th>\n",
       "      <td>A4</td>\n",
       "      <td>2017</td>\n",
       "      <td>16800</td>\n",
       "      <td>Automatic</td>\n",
       "      <td>25952</td>\n",
       "      <td>Diesel</td>\n",
       "      <td>145.0</td>\n",
       "      <td>67.3</td>\n",
       "      <td>2.0</td>\n",
       "    </tr>\n",
       "    <tr>\n",
       "      <th>4</th>\n",
       "      <td>A3</td>\n",
       "      <td>2019</td>\n",
       "      <td>17300</td>\n",
       "      <td>Manual</td>\n",
       "      <td>1998</td>\n",
       "      <td>Petrol</td>\n",
       "      <td>145.0</td>\n",
       "      <td>49.6</td>\n",
       "      <td>1.0</td>\n",
       "    </tr>\n",
       "    <tr>\n",
       "      <th>...</th>\n",
       "      <td>...</td>\n",
       "      <td>...</td>\n",
       "      <td>...</td>\n",
       "      <td>...</td>\n",
       "      <td>...</td>\n",
       "      <td>...</td>\n",
       "      <td>...</td>\n",
       "      <td>...</td>\n",
       "      <td>...</td>\n",
       "    </tr>\n",
       "    <tr>\n",
       "      <th>13627</th>\n",
       "      <td>Tigra</td>\n",
       "      <td>2007</td>\n",
       "      <td>2499</td>\n",
       "      <td>Manual</td>\n",
       "      <td>48640</td>\n",
       "      <td>Petrol</td>\n",
       "      <td>165.0</td>\n",
       "      <td>46.3</td>\n",
       "      <td>1.4</td>\n",
       "    </tr>\n",
       "    <tr>\n",
       "      <th>13628</th>\n",
       "      <td>Vectra</td>\n",
       "      <td>2007</td>\n",
       "      <td>1795</td>\n",
       "      <td>Manual</td>\n",
       "      <td>75000</td>\n",
       "      <td>Petrol</td>\n",
       "      <td>240.0</td>\n",
       "      <td>39.2</td>\n",
       "      <td>1.8</td>\n",
       "    </tr>\n",
       "    <tr>\n",
       "      <th>13629</th>\n",
       "      <td>Vectra</td>\n",
       "      <td>2005</td>\n",
       "      <td>1495</td>\n",
       "      <td>Manual</td>\n",
       "      <td>74000</td>\n",
       "      <td>Petrol</td>\n",
       "      <td>235.0</td>\n",
       "      <td>38.7</td>\n",
       "      <td>1.8</td>\n",
       "    </tr>\n",
       "    <tr>\n",
       "      <th>13630</th>\n",
       "      <td>Vectra</td>\n",
       "      <td>2008</td>\n",
       "      <td>1695</td>\n",
       "      <td>Automatic</td>\n",
       "      <td>131000</td>\n",
       "      <td>Diesel</td>\n",
       "      <td>200.0</td>\n",
       "      <td>39.8</td>\n",
       "      <td>1.9</td>\n",
       "    </tr>\n",
       "    <tr>\n",
       "      <th>13631</th>\n",
       "      <td>Vectra</td>\n",
       "      <td>2005</td>\n",
       "      <td>1450</td>\n",
       "      <td>Manual</td>\n",
       "      <td>147000</td>\n",
       "      <td>Petrol</td>\n",
       "      <td>330.0</td>\n",
       "      <td>27.9</td>\n",
       "      <td>3.2</td>\n",
       "    </tr>\n",
       "  </tbody>\n",
       "</table>\n",
       "<p>99187 rows × 9 columns</p>\n",
       "</div>"
      ],
      "text/plain": [
       "         model  year  price transmission  mileage fuelType    tax   mpg  \\\n",
       "0           A1  2017  12500       Manual    15735   Petrol  150.0  55.4   \n",
       "1           A6  2016  16500    Automatic    36203   Diesel   20.0  64.2   \n",
       "2           A1  2016  11000       Manual    29946   Petrol   30.0  55.4   \n",
       "3           A4  2017  16800    Automatic    25952   Diesel  145.0  67.3   \n",
       "4           A3  2019  17300       Manual     1998   Petrol  145.0  49.6   \n",
       "...        ...   ...    ...          ...      ...      ...    ...   ...   \n",
       "13627    Tigra  2007   2499       Manual    48640   Petrol  165.0  46.3   \n",
       "13628   Vectra  2007   1795       Manual    75000   Petrol  240.0  39.2   \n",
       "13629   Vectra  2005   1495       Manual    74000   Petrol  235.0  38.7   \n",
       "13630   Vectra  2008   1695    Automatic   131000   Diesel  200.0  39.8   \n",
       "13631   Vectra  2005   1450       Manual   147000   Petrol  330.0  27.9   \n",
       "\n",
       "       engineSize  \n",
       "0             1.4  \n",
       "1             2.0  \n",
       "2             1.4  \n",
       "3             2.0  \n",
       "4             1.0  \n",
       "...           ...  \n",
       "13627         1.4  \n",
       "13628         1.8  \n",
       "13629         1.8  \n",
       "13630         1.9  \n",
       "13631         3.2  \n",
       "\n",
       "[99187 rows x 9 columns]"
      ]
     },
     "execution_count": 208,
     "metadata": {},
     "output_type": "execute_result"
    }
   ],
   "source": [
    "df=df.drop('tax(£)',axis=1)\n",
    "df"
   ]
  },
  {
   "cell_type": "code",
   "execution_count": 130,
   "id": "c42dca33",
   "metadata": {},
   "outputs": [
    {
     "data": {
      "text/plain": [
       "<bound method Series.isnull of 0        150.0\n",
       "1         20.0\n",
       "2         30.0\n",
       "3        145.0\n",
       "4        145.0\n",
       "         ...  \n",
       "13627    165.0\n",
       "13628    240.0\n",
       "13629    235.0\n",
       "13630    200.0\n",
       "13631    330.0\n",
       "Name: tax, Length: 99187, dtype: float64>"
      ]
     },
     "execution_count": 130,
     "metadata": {},
     "output_type": "execute_result"
    }
   ],
   "source": [
    "df['tax'].isnull"
   ]
  },
  {
   "cell_type": "markdown",
   "id": "76251134",
   "metadata": {},
   "source": [
    "## Data Prosscissing"
   ]
  },
  {
   "cell_type": "code",
   "execution_count": 173,
   "id": "5bf5108c",
   "metadata": {},
   "outputs": [
    {
     "data": {
      "text/html": [
       "<div>\n",
       "<style scoped>\n",
       "    .dataframe tbody tr th:only-of-type {\n",
       "        vertical-align: middle;\n",
       "    }\n",
       "\n",
       "    .dataframe tbody tr th {\n",
       "        vertical-align: top;\n",
       "    }\n",
       "\n",
       "    .dataframe thead th {\n",
       "        text-align: right;\n",
       "    }\n",
       "</style>\n",
       "<table border=\"1\" class=\"dataframe\">\n",
       "  <thead>\n",
       "    <tr style=\"text-align: right;\">\n",
       "      <th></th>\n",
       "      <th>model</th>\n",
       "      <th>year</th>\n",
       "      <th>price</th>\n",
       "      <th>transmission</th>\n",
       "      <th>mileage</th>\n",
       "      <th>fuelType</th>\n",
       "      <th>tax</th>\n",
       "      <th>mpg</th>\n",
       "      <th>engineSize</th>\n",
       "    </tr>\n",
       "  </thead>\n",
       "  <tbody>\n",
       "    <tr>\n",
       "      <th>0</th>\n",
       "      <td>A1</td>\n",
       "      <td>2017</td>\n",
       "      <td>12500</td>\n",
       "      <td>Manual</td>\n",
       "      <td>15735</td>\n",
       "      <td>Petrol</td>\n",
       "      <td>150.0</td>\n",
       "      <td>55.4</td>\n",
       "      <td>1.4</td>\n",
       "    </tr>\n",
       "    <tr>\n",
       "      <th>1</th>\n",
       "      <td>A6</td>\n",
       "      <td>2016</td>\n",
       "      <td>16500</td>\n",
       "      <td>Automatic</td>\n",
       "      <td>36203</td>\n",
       "      <td>Diesel</td>\n",
       "      <td>20.0</td>\n",
       "      <td>64.2</td>\n",
       "      <td>2.0</td>\n",
       "    </tr>\n",
       "    <tr>\n",
       "      <th>2</th>\n",
       "      <td>A1</td>\n",
       "      <td>2016</td>\n",
       "      <td>11000</td>\n",
       "      <td>Manual</td>\n",
       "      <td>29946</td>\n",
       "      <td>Petrol</td>\n",
       "      <td>30.0</td>\n",
       "      <td>55.4</td>\n",
       "      <td>1.4</td>\n",
       "    </tr>\n",
       "    <tr>\n",
       "      <th>3</th>\n",
       "      <td>A4</td>\n",
       "      <td>2017</td>\n",
       "      <td>16800</td>\n",
       "      <td>Automatic</td>\n",
       "      <td>25952</td>\n",
       "      <td>Diesel</td>\n",
       "      <td>145.0</td>\n",
       "      <td>67.3</td>\n",
       "      <td>2.0</td>\n",
       "    </tr>\n",
       "    <tr>\n",
       "      <th>4</th>\n",
       "      <td>A3</td>\n",
       "      <td>2019</td>\n",
       "      <td>17300</td>\n",
       "      <td>Manual</td>\n",
       "      <td>1998</td>\n",
       "      <td>Petrol</td>\n",
       "      <td>145.0</td>\n",
       "      <td>49.6</td>\n",
       "      <td>1.0</td>\n",
       "    </tr>\n",
       "  </tbody>\n",
       "</table>\n",
       "</div>"
      ],
      "text/plain": [
       "  model  year  price transmission  mileage fuelType    tax   mpg  engineSize\n",
       "0    A1  2017  12500       Manual    15735   Petrol  150.0  55.4         1.4\n",
       "1    A6  2016  16500    Automatic    36203   Diesel   20.0  64.2         2.0\n",
       "2    A1  2016  11000       Manual    29946   Petrol   30.0  55.4         1.4\n",
       "3    A4  2017  16800    Automatic    25952   Diesel  145.0  67.3         2.0\n",
       "4    A3  2019  17300       Manual     1998   Petrol  145.0  49.6         1.0"
      ]
     },
     "execution_count": 173,
     "metadata": {},
     "output_type": "execute_result"
    }
   ],
   "source": [
    "df.head()"
   ]
  },
  {
   "cell_type": "code",
   "execution_count": 170,
   "id": "a69f72b1",
   "metadata": {},
   "outputs": [
    {
     "data": {
      "text/html": [
       "<div>\n",
       "<style scoped>\n",
       "    .dataframe tbody tr th:only-of-type {\n",
       "        vertical-align: middle;\n",
       "    }\n",
       "\n",
       "    .dataframe tbody tr th {\n",
       "        vertical-align: top;\n",
       "    }\n",
       "\n",
       "    .dataframe thead th {\n",
       "        text-align: right;\n",
       "    }\n",
       "</style>\n",
       "<table border=\"1\" class=\"dataframe\">\n",
       "  <thead>\n",
       "    <tr style=\"text-align: right;\">\n",
       "      <th></th>\n",
       "      <th>price</th>\n",
       "    </tr>\n",
       "    <tr>\n",
       "      <th>model</th>\n",
       "      <th></th>\n",
       "    </tr>\n",
       "  </thead>\n",
       "  <tbody>\n",
       "    <tr>\n",
       "      <th>1 Series</th>\n",
       "      <td>31152869</td>\n",
       "    </tr>\n",
       "    <tr>\n",
       "      <th>2 Series</th>\n",
       "      <td>24013888</td>\n",
       "    </tr>\n",
       "    <tr>\n",
       "      <th>3 Series</th>\n",
       "      <td>48568936</td>\n",
       "    </tr>\n",
       "    <tr>\n",
       "      <th>4 Series</th>\n",
       "      <td>22385926</td>\n",
       "    </tr>\n",
       "    <tr>\n",
       "      <th>5 Series</th>\n",
       "      <td>23799524</td>\n",
       "    </tr>\n",
       "    <tr>\n",
       "      <th>...</th>\n",
       "      <td>...</td>\n",
       "    </tr>\n",
       "    <tr>\n",
       "      <th>i8</th>\n",
       "      <td>969214</td>\n",
       "    </tr>\n",
       "    <tr>\n",
       "      <th>180</th>\n",
       "      <td>10799</td>\n",
       "    </tr>\n",
       "    <tr>\n",
       "      <th>200</th>\n",
       "      <td>19495</td>\n",
       "    </tr>\n",
       "    <tr>\n",
       "      <th>220</th>\n",
       "      <td>19995</td>\n",
       "    </tr>\n",
       "    <tr>\n",
       "      <th>230</th>\n",
       "      <td>4500</td>\n",
       "    </tr>\n",
       "  </tbody>\n",
       "</table>\n",
       "<p>195 rows × 1 columns</p>\n",
       "</div>"
      ],
      "text/plain": [
       "              price\n",
       "model              \n",
       " 1 Series  31152869\n",
       " 2 Series  24013888\n",
       " 3 Series  48568936\n",
       " 4 Series  22385926\n",
       " 5 Series  23799524\n",
       "...             ...\n",
       " i8          969214\n",
       "180           10799\n",
       "200           19495\n",
       "220           19995\n",
       "230            4500\n",
       "\n",
       "[195 rows x 1 columns]"
      ]
     },
     "execution_count": 170,
     "metadata": {},
     "output_type": "execute_result"
    }
   ],
   "source": [
    "df.groupby(['model'])[['price']].sum()"
   ]
  },
  {
   "cell_type": "code",
   "execution_count": 148,
   "id": "bcc69d7a",
   "metadata": {},
   "outputs": [
    {
     "data": {
      "text/html": [
       "<div>\n",
       "<style scoped>\n",
       "    .dataframe tbody tr th:only-of-type {\n",
       "        vertical-align: middle;\n",
       "    }\n",
       "\n",
       "    .dataframe tbody tr th {\n",
       "        vertical-align: top;\n",
       "    }\n",
       "\n",
       "    .dataframe thead th {\n",
       "        text-align: right;\n",
       "    }\n",
       "</style>\n",
       "<table border=\"1\" class=\"dataframe\">\n",
       "  <thead>\n",
       "    <tr style=\"text-align: right;\">\n",
       "      <th></th>\n",
       "      <th>price</th>\n",
       "    </tr>\n",
       "    <tr>\n",
       "      <th>transmission</th>\n",
       "      <th></th>\n",
       "    </tr>\n",
       "  </thead>\n",
       "  <tbody>\n",
       "    <tr>\n",
       "      <th>Automatic</th>\n",
       "      <td>21558.217790</td>\n",
       "    </tr>\n",
       "    <tr>\n",
       "      <th>Manual</th>\n",
       "      <td>12112.063991</td>\n",
       "    </tr>\n",
       "    <tr>\n",
       "      <th>Other</th>\n",
       "      <td>16219.111111</td>\n",
       "    </tr>\n",
       "    <tr>\n",
       "      <th>Semi-Auto</th>\n",
       "      <td>24284.031309</td>\n",
       "    </tr>\n",
       "  </tbody>\n",
       "</table>\n",
       "</div>"
      ],
      "text/plain": [
       "                     price\n",
       "transmission              \n",
       "Automatic     21558.217790\n",
       "Manual        12112.063991\n",
       "Other         16219.111111\n",
       "Semi-Auto     24284.031309"
      ]
     },
     "execution_count": 148,
     "metadata": {},
     "output_type": "execute_result"
    }
   ],
   "source": [
    "df.groupby(['transmission'])[['price']].mean()"
   ]
  },
  {
   "cell_type": "code",
   "execution_count": 159,
   "id": "ae129661",
   "metadata": {},
   "outputs": [
    {
     "data": {
      "text/html": [
       "<div>\n",
       "<style scoped>\n",
       "    .dataframe tbody tr th:only-of-type {\n",
       "        vertical-align: middle;\n",
       "    }\n",
       "\n",
       "    .dataframe tbody tr th {\n",
       "        vertical-align: top;\n",
       "    }\n",
       "\n",
       "    .dataframe thead th {\n",
       "        text-align: right;\n",
       "    }\n",
       "</style>\n",
       "<table border=\"1\" class=\"dataframe\">\n",
       "  <thead>\n",
       "    <tr style=\"text-align: right;\">\n",
       "      <th></th>\n",
       "      <th></th>\n",
       "      <th>price</th>\n",
       "    </tr>\n",
       "    <tr>\n",
       "      <th>year</th>\n",
       "      <th>fuelType</th>\n",
       "      <th></th>\n",
       "    </tr>\n",
       "  </thead>\n",
       "  <tbody>\n",
       "    <tr>\n",
       "      <th rowspan=\"2\" valign=\"top\">1970</th>\n",
       "      <th>Diesel</th>\n",
       "      <td>24999</td>\n",
       "    </tr>\n",
       "    <tr>\n",
       "      <th>Petrol</th>\n",
       "      <td>10495</td>\n",
       "    </tr>\n",
       "    <tr>\n",
       "      <th>1996</th>\n",
       "      <th>Petrol</th>\n",
       "      <td>8995</td>\n",
       "    </tr>\n",
       "    <tr>\n",
       "      <th>1997</th>\n",
       "      <th>Petrol</th>\n",
       "      <td>19545</td>\n",
       "    </tr>\n",
       "    <tr>\n",
       "      <th>1998</th>\n",
       "      <th>Diesel</th>\n",
       "      <td>19990</td>\n",
       "    </tr>\n",
       "    <tr>\n",
       "      <th>...</th>\n",
       "      <th>...</th>\n",
       "      <td>...</td>\n",
       "    </tr>\n",
       "    <tr>\n",
       "      <th rowspan=\"4\" valign=\"top\">2020</th>\n",
       "      <th>Diesel</th>\n",
       "      <td>53358845</td>\n",
       "    </tr>\n",
       "    <tr>\n",
       "      <th>Hybrid</th>\n",
       "      <td>5739961</td>\n",
       "    </tr>\n",
       "    <tr>\n",
       "      <th>Other</th>\n",
       "      <td>358799</td>\n",
       "    </tr>\n",
       "    <tr>\n",
       "      <th>Petrol</th>\n",
       "      <td>67315039</td>\n",
       "    </tr>\n",
       "    <tr>\n",
       "      <th>2060</th>\n",
       "      <th>Petrol</th>\n",
       "      <td>6495</td>\n",
       "    </tr>\n",
       "  </tbody>\n",
       "</table>\n",
       "<p>76 rows × 1 columns</p>\n",
       "</div>"
      ],
      "text/plain": [
       "                  price\n",
       "year fuelType          \n",
       "1970 Diesel       24999\n",
       "     Petrol       10495\n",
       "1996 Petrol        8995\n",
       "1997 Petrol       19545\n",
       "1998 Diesel       19990\n",
       "...                 ...\n",
       "2020 Diesel    53358845\n",
       "     Hybrid     5739961\n",
       "     Other       358799\n",
       "     Petrol    67315039\n",
       "2060 Petrol        6495\n",
       "\n",
       "[76 rows x 1 columns]"
      ]
     },
     "execution_count": 159,
     "metadata": {},
     "output_type": "execute_result"
    }
   ],
   "source": [
    "df.groupby(['year','fuelType'])[['price']].sum()"
   ]
  },
  {
   "cell_type": "code",
   "execution_count": 210,
   "id": "3106ad38",
   "metadata": {},
   "outputs": [
    {
     "data": {
      "text/html": [
       "<div>\n",
       "<style scoped>\n",
       "    .dataframe tbody tr th:only-of-type {\n",
       "        vertical-align: middle;\n",
       "    }\n",
       "\n",
       "    .dataframe tbody tr th {\n",
       "        vertical-align: top;\n",
       "    }\n",
       "\n",
       "    .dataframe thead th {\n",
       "        text-align: right;\n",
       "    }\n",
       "</style>\n",
       "<table border=\"1\" class=\"dataframe\">\n",
       "  <thead>\n",
       "    <tr style=\"text-align: right;\">\n",
       "      <th></th>\n",
       "      <th>model</th>\n",
       "      <th>year</th>\n",
       "      <th>price</th>\n",
       "      <th>transmission</th>\n",
       "      <th>mileage</th>\n",
       "      <th>fuelType</th>\n",
       "      <th>tax</th>\n",
       "      <th>mpg</th>\n",
       "      <th>engineSize</th>\n",
       "    </tr>\n",
       "  </thead>\n",
       "  <tbody>\n",
       "    <tr>\n",
       "      <th>0</th>\n",
       "      <td>A1</td>\n",
       "      <td>2017</td>\n",
       "      <td>12500</td>\n",
       "      <td>Manual</td>\n",
       "      <td>15735</td>\n",
       "      <td>Petrol</td>\n",
       "      <td>150.0</td>\n",
       "      <td>55.4</td>\n",
       "      <td>1.4</td>\n",
       "    </tr>\n",
       "  </tbody>\n",
       "</table>\n",
       "</div>"
      ],
      "text/plain": [
       "  model  year  price transmission  mileage fuelType    tax   mpg  engineSize\n",
       "0    A1  2017  12500       Manual    15735   Petrol  150.0  55.4         1.4"
      ]
     },
     "execution_count": 210,
     "metadata": {},
     "output_type": "execute_result"
    }
   ],
   "source": [
    "df.head(1)"
   ]
  },
  {
   "cell_type": "markdown",
   "id": "80b247cc",
   "metadata": {},
   "source": [
    " ## DataVisaulation"
   ]
  },
  {
   "cell_type": "code",
   "execution_count": 209,
   "id": "cc4afb79",
   "metadata": {},
   "outputs": [
    {
     "data": {
      "text/plain": [
       "(array([2.7677e+04, 7.0936e+04, 2.5500e+02, 2.3600e+02, 3.7000e+01,\n",
       "        3.0000e+00, 0.0000e+00, 0.0000e+00, 0.0000e+00, 4.3000e+01]),\n",
       " array([3.0000e-01, 4.7350e+01, 9.4400e+01, 1.4145e+02, 1.8850e+02,\n",
       "        2.3555e+02, 2.8260e+02, 3.2965e+02, 3.7670e+02, 4.2375e+02,\n",
       "        4.7080e+02]),\n",
       " <BarContainer object of 10 artists>)"
      ]
     },
     "execution_count": 209,
     "metadata": {},
     "output_type": "execute_result"
    },
    {
     "data": {
      "image/png": "[encoded data removed]",
      "text/plain": [
       "<Figure size 432x288 with 1 Axes>"
      ]
     },
     "metadata": {
      "needs_background": "light"
     },
     "output_type": "display_data"
    }
   ],
   "source": [
    "plt.hist(df['mpg'])\n"
   ]
  },
  {
   "cell_type": "code",
   "execution_count": 212,
   "id": "49177cef",
   "metadata": {},
   "outputs": [
    {
     "data": {
      "text/plain": [
       "<AxesSubplot:>"
      ]
     },
     "execution_count": 212,
     "metadata": {},
     "output_type": "execute_result"
    },
    {
     "data": {
      "image/png": "[encoded data removed]",
      "text/plain": [
       "<Figure size 432x288 with 1 Axes>"
      ]
     },
     "metadata": {
      "needs_background": "light"
     },
     "output_type": "display_data"
    }
   ],
   "source": [
    "sns.boxplot(data=df)"
   ]
  },
  {
   "cell_type": "code",
   "execution_count": 216,
   "id": "e7524744",
   "metadata": {},
   "outputs": [
    {
     "data": {
      "text/plain": [
       "[Text(0, 0, '1970'),\n",
       " Text(1, 0, '1996'),\n",
       " Text(2, 0, '1997'),\n",
       " Text(3, 0, '1998'),\n",
       " Text(4, 0, '1999'),\n",
       " Text(5, 0, '2000'),\n",
       " Text(6, 0, '2001'),\n",
       " Text(7, 0, '2002'),\n",
       " Text(8, 0, '2003'),\n",
       " Text(9, 0, '2004'),\n",
       " Text(10, 0, '2005'),\n",
       " Text(11, 0, '2006'),\n",
       " Text(12, 0, '2007'),\n",
       " Text(13, 0, '2008'),\n",
       " Text(14, 0, '2009'),\n",
       " Text(15, 0, '2010'),\n",
       " Text(16, 0, '2011'),\n",
       " Text(17, 0, '2012'),\n",
       " Text(18, 0, '2013'),\n",
       " Text(19, 0, '2014'),\n",
       " Text(20, 0, '2015'),\n",
       " Text(21, 0, '2016'),\n",
       " Text(22, 0, '2017'),\n",
       " Text(23, 0, '2018'),\n",
       " Text(24, 0, '2019'),\n",
       " Text(25, 0, '2020'),\n",
       " Text(26, 0, '2060')]"
      ]
     },
     "execution_count": 216,
     "metadata": {},
     "output_type": "execute_result"
    },
    {
     "data": {
      "image/png": "[encoded data removed]",
      "text/plain": [
       "<Figure size 432x288 with 1 Axes>"
      ]
     },
     "metadata": {
      "needs_background": "light"
     },
     "output_type": "display_data"
    }
   ],
   "source": [
    "ax=sns.countplot(data=df, x='year')\n",
    "ax.set_xticklabels(ax.get_xticklabels(),rotation = 90)"
   ]
  },
  {
   "cell_type": "code",
   "execution_count": 217,
   "id": "d956566d",
   "metadata": {},
   "outputs": [
    {
     "data": {
      "text/plain": [
       "<AxesSubplot:xlabel='fuelType', ylabel='count'>"
      ]
     },
     "execution_count": 217,
     "metadata": {},
     "output_type": "execute_result"
    },
    {
     "data": {
      "image/png": "[encoded data removed]",
      "text/plain": [
       "<Figure size 432x288 with 1 Axes>"
      ]
     },
     "metadata": {
      "needs_background": "light"
     },
     "output_type": "display_data"
    }
   ],
   "source": [
    "sns.countplot(data=df, x='fuelType')"
   ]
  },
  {
   "cell_type": "code",
   "execution_count": 273,
   "id": "92e86bd8",
   "metadata": {},
   "outputs": [
    {
     "ename": "AttributeError",
     "evalue": "'DataFrame' object has no attribute 'to_excal'",
     "output_type": "error",
     "traceback": [
      "\u001b[1;31m---------------------------------------------------------------------------\u001b[0m",
      "\u001b[1;31mAttributeError\u001b[0m                            Traceback (most recent call last)",
      "\u001b[1;32mC:\\Users\\YOUSSE~1\\AppData\\Local\\Temp/ipykernel_43792/3575681618.py\u001b[0m in \u001b[0;36m<module>\u001b[1;34m\u001b[0m\n\u001b[1;32m----> 1\u001b[1;33m \u001b[0mdf\u001b[0m\u001b[1;33m.\u001b[0m\u001b[0mto_excal\u001b[0m\u001b[1;33m(\u001b[0m\u001b[1;34mr\"C:\\Users\\youssef azam\\Desktop\\project_car\\car.excal\"\u001b[0m\u001b[1;33m)\u001b[0m\u001b[1;33m\u001b[0m\u001b[1;33m\u001b[0m\u001b[0m\n\u001b[0m",
      "\u001b[1;32m~\\anaconda2\\lib\\site-packages\\pandas\\core\\generic.py\u001b[0m in \u001b[0;36m__getattr__\u001b[1;34m(self, name)\u001b[0m\n\u001b[0;32m   5485\u001b[0m         ):\n\u001b[0;32m   5486\u001b[0m             \u001b[1;32mreturn\u001b[0m \u001b[0mself\u001b[0m\u001b[1;33m[\u001b[0m\u001b[0mname\u001b[0m\u001b[1;33m]\u001b[0m\u001b[1;33m\u001b[0m\u001b[1;33m\u001b[0m\u001b[0m\n\u001b[1;32m-> 5487\u001b[1;33m         \u001b[1;32mreturn\u001b[0m \u001b[0mobject\u001b[0m\u001b[1;33m.\u001b[0m\u001b[0m__getattribute__\u001b[0m\u001b[1;33m(\u001b[0m\u001b[0mself\u001b[0m\u001b[1;33m,\u001b[0m \u001b[0mname\u001b[0m\u001b[1;33m)\u001b[0m\u001b[1;33m\u001b[0m\u001b[1;33m\u001b[0m\u001b[0m\n\u001b[0m\u001b[0;32m   5488\u001b[0m \u001b[1;33m\u001b[0m\u001b[0m\n\u001b[0;32m   5489\u001b[0m     \u001b[1;32mdef\u001b[0m \u001b[0m__setattr__\u001b[0m\u001b[1;33m(\u001b[0m\u001b[0mself\u001b[0m\u001b[1;33m,\u001b[0m \u001b[0mname\u001b[0m\u001b[1;33m:\u001b[0m \u001b[0mstr\u001b[0m\u001b[1;33m,\u001b[0m \u001b[0mvalue\u001b[0m\u001b[1;33m)\u001b[0m \u001b[1;33m->\u001b[0m \u001b[1;32mNone\u001b[0m\u001b[1;33m:\u001b[0m\u001b[1;33m\u001b[0m\u001b[1;33m\u001b[0m\u001b[0m\n",
      "\u001b[1;31mAttributeError\u001b[0m: 'DataFrame' object has no attribute 'to_excal'"
     ]
    }
   ],
   "source": [
    "df.to_excal(r\"C:\\Users\\youssef azam\\Desktop\\project_car\\car.excal\")"
   ]
  },
  {
   "cell_type": "code",
   "execution_count": null,
   "id": "e56859d5",
   "metadata": {},
   "outputs": [],
   "source": []
  },
  {
   "cell_type": "code",
   "execution_count": null,
   "id": "61419b3c",
   "metadata": {},
   "outputs": [],
   "source": []
  }
 ],
 "metadata": {
  "kernelspec": {
   "display_name": "Python 3 (ipykernel)",
   "language": "python",
   "name": "python3"
  },
  "language_info": {
   "codemirror_mode": {
    "name": "ipython",
    "version": 3
   },
   "file_extension": ".py",
   "mimetype": "text/x-python",
   "name": "python",
   "nbconvert_exporter": "python",
   "pygments_lexer": "ipython3",
   "version": "3.9.7"
  }
 },
 "nbformat": 4,
 "nbformat_minor": 5
}
